{
 "cells": [
  {
   "cell_type": "code",
   "execution_count": 1,
   "id": "0830b5ee-6742-4d0a-a3f0-fc8a02c1fee3",
   "metadata": {
    "tags": []
   },
   "outputs": [],
   "source": [
    "import numpy as np\n",
    "import pandas as pd\n",
    "from matplotlib import pyplot as plt\n",
    "\n",
    "data = pd.read_csv('input/digit-recognizer/train.csv')"
   ]
  },
  {
   "cell_type": "code",
   "execution_count": 2,
   "id": "5e7c8a8a-9826-4d90-99bd-6ba8a83fcf8e",
   "metadata": {
    "tags": []
   },
   "outputs": [],
   "source": [
    "data = np.array(data)\n",
    "m, n = data.shape\n",
    "np.random.shuffle(data) # shuffle before splitting into dev and training sets\n",
    "\n",
    "data_dev = data[0:1000].T\n",
    "Y_dev = data_dev[0]\n",
    "X_dev = data_dev[1:n]\n",
    "X_dev = X_dev / 255.\n",
    "\n",
    "data_train = data[1000:m].T\n",
    "Y_train = data_train[0]\n",
    "X_train = data_train[1:n]\n",
    "X_train = X_train / 255.\n",
    "_,m_train = X_train.shape"
   ]
  },
  {
   "cell_type": "code",
   "execution_count": 3,
   "id": "0b3f1510-7db5-4806-a7b1-cfe83db01029",
   "metadata": {
    "tags": []
   },
   "outputs": [
    {
     "data": {
      "text/plain": [
       "array([6, 7, 4, ..., 8, 5, 9], dtype=int64)"
      ]
     },
     "execution_count": 3,
     "metadata": {},
     "output_type": "execute_result"
    }
   ],
   "source": [
    "Y_train"
   ]
  },
  {
   "cell_type": "code",
   "execution_count": 4,
   "id": "c34a0915-1659-4735-820d-0db7af38ff82",
   "metadata": {
    "tags": []
   },
   "outputs": [],
   "source": [
    "def init_params():\n",
    "    W1 = np.random.rand(10, 784) - 0.5\n",
    "    b1 = np.random.rand(10, 1) - 0.5\n",
    "    W2 = np.random.rand(10, 10) - 0.5\n",
    "    b2 = np.random.rand(10, 1) - 0.5\n",
    "    return W1, b1, W2, b2\n",
    "\n",
    "def ReLU(Z):\n",
    "    return np.maximum(Z, 0)\n",
    "\n",
    "def softmax(Z):\n",
    "    A = np.exp(Z) / sum(np.exp(Z))\n",
    "    return A\n",
    "    \n",
    "def forward_prop(W1, b1, W2, b2, X):\n",
    "    Z1 = W1.dot(X) + b1\n",
    "    A1 = ReLU(Z1)\n",
    "    Z2 = W2.dot(A1) + b2\n",
    "    A2 = softmax(Z2)\n",
    "    return Z1, A1, Z2, A2\n",
    "def ReLU_deriv(Z):\n",
    "    return Z > 0\n",
    "\n",
    "def one_hot(Y):\n",
    "    one_hot_Y = np.zeros((Y.size, Y.max() + 1))\n",
    "    one_hot_Y[np.arange(Y.size), Y] = 1\n",
    "    one_hot_Y = one_hot_Y.T\n",
    "    return one_hot_Y\n",
    "\n",
    "def backward_prop(Z1, A1, Z2, A2, W1, W2, X, Y):\n",
    "    one_hot_Y = one_hot(Y)\n",
    "    dZ2 = A2 - one_hot_Y\n",
    "    dW2 = 1 / m * dZ2.dot(A1.T)\n",
    "    db2 = 1 / m * np.sum(dZ2)\n",
    "    dZ1 = W2.T.dot(dZ2) * ReLU_deriv(Z1)\n",
    "    dW1 = 1 / m * dZ1.dot(X.T)\n",
    "    db1 = 1 / m * np.sum(dZ1)\n",
    "    return dW1, db1, dW2, db2\n",
    "\n",
    "def update_params(W1, b1, W2, b2, dW1, db1, dW2, db2, alpha):\n",
    "    W1 = W1 - alpha * dW1\n",
    "    b1 = b1 - alpha * db1    \n",
    "    W2 = W2 - alpha * dW2  \n",
    "    b2 = b2 - alpha * db2   \n",
    "    return W1, b1, W2, b2"
   ]
  },
  {
   "cell_type": "code",
   "execution_count": 5,
   "id": "b1d3688b-0143-48c1-a0c8-2262d4baf68e",
   "metadata": {
    "tags": []
   },
   "outputs": [],
   "source": [
    "def get_predictions(A2):\n",
    "    return np.argmax(A2, 0)\n",
    "\n",
    "def get_accuracy(predictions, Y):\n",
    "    print(predictions, Y)\n",
    "    return np.sum(predictions == Y) / Y.size\n",
    "\n",
    "def gradient_descent(X, Y, alpha, iterations):\n",
    "    W1, b1, W2, b2 = init_params()\n",
    "    for i in range(iterations):\n",
    "        Z1, A1, Z2, A2 = forward_prop(W1, b1, W2, b2, X)\n",
    "        dW1, db1, dW2, db2 = backward_prop(Z1, A1, Z2, A2, W1, W2, X, Y)\n",
    "        W1, b1, W2, b2 = update_params(W1, b1, W2, b2, dW1, db1, dW2, db2, alpha)\n",
    "        if i % 10 == 0:\n",
    "            print(\"Iteration: \", i)\n",
    "            predictions = get_predictions(A2)\n",
    "            print(get_accuracy(predictions, Y))\n",
    "    return W1, b1, W2, b2"
   ]
  },
  {
   "cell_type": "code",
   "execution_count": 6,
   "id": "e4713d99-eac4-4489-aa91-d8e6e5b2d4f8",
   "metadata": {
    "tags": []
   },
   "outputs": [
    {
     "name": "stdout",
     "output_type": "stream",
     "text": [
      "Iteration:  0\n",
      "[9 6 6 ... 6 6 6] [6 7 4 ... 8 5 9]\n",
      "0.056951219512195124\n",
      "Iteration:  10\n",
      "[8 7 0 ... 6 7 9] [6 7 4 ... 8 5 9]\n",
      "0.2416341463414634\n",
      "Iteration:  20\n",
      "[8 7 0 ... 8 7 9] [6 7 4 ... 8 5 9]\n",
      "0.3191707317073171\n",
      "Iteration:  30\n",
      "[5 7 4 ... 8 3 9] [6 7 4 ... 8 5 9]\n",
      "0.3727560975609756\n",
      "Iteration:  40\n",
      "[5 7 4 ... 8 3 9] [6 7 4 ... 8 5 9]\n",
      "0.4152682926829268\n",
      "Iteration:  50\n",
      "[8 7 4 ... 8 3 9] [6 7 4 ... 8 5 9]\n",
      "0.4514878048780488\n",
      "Iteration:  60\n",
      "[8 7 4 ... 8 3 9] [6 7 4 ... 8 5 9]\n",
      "0.4846829268292683\n",
      "Iteration:  70\n",
      "[4 7 4 ... 8 3 9] [6 7 4 ... 8 5 9]\n",
      "0.5148048780487805\n",
      "Iteration:  80\n",
      "[4 7 4 ... 8 3 9] [6 7 4 ... 8 5 9]\n",
      "0.5422926829268293\n",
      "Iteration:  90\n",
      "[4 7 4 ... 8 3 9] [6 7 4 ... 8 5 9]\n",
      "0.569\n",
      "Iteration:  100\n",
      "[4 7 4 ... 8 3 6] [6 7 4 ... 8 5 9]\n",
      "0.5939024390243902\n",
      "Iteration:  110\n",
      "[4 7 4 ... 8 3 6] [6 7 4 ... 8 5 9]\n",
      "0.617\n",
      "Iteration:  120\n",
      "[4 7 4 ... 8 3 6] [6 7 4 ... 8 5 9]\n",
      "0.6363170731707317\n",
      "Iteration:  130\n",
      "[6 7 4 ... 8 3 6] [6 7 4 ... 8 5 9]\n",
      "0.6547804878048781\n",
      "Iteration:  140\n",
      "[6 7 4 ... 8 3 6] [6 7 4 ... 8 5 9]\n",
      "0.6706585365853659\n",
      "Iteration:  150\n",
      "[6 7 4 ... 8 3 6] [6 7 4 ... 8 5 9]\n",
      "0.6866829268292683\n",
      "Iteration:  160\n",
      "[6 7 4 ... 8 3 6] [6 7 4 ... 8 5 9]\n",
      "0.7023658536585365\n",
      "Iteration:  170\n",
      "[6 7 4 ... 8 3 6] [6 7 4 ... 8 5 9]\n",
      "0.7165365853658536\n",
      "Iteration:  180\n",
      "[6 7 4 ... 8 3 6] [6 7 4 ... 8 5 9]\n",
      "0.730609756097561\n",
      "Iteration:  190\n",
      "[6 7 4 ... 8 3 6] [6 7 4 ... 8 5 9]\n",
      "0.7408536585365854\n",
      "Iteration:  200\n",
      "[6 7 4 ... 8 3 6] [6 7 4 ... 8 5 9]\n",
      "0.7499756097560976\n",
      "Iteration:  210\n",
      "[6 7 4 ... 8 3 6] [6 7 4 ... 8 5 9]\n",
      "0.7583414634146342\n",
      "Iteration:  220\n",
      "[6 7 4 ... 8 3 6] [6 7 4 ... 8 5 9]\n",
      "0.7657560975609756\n",
      "Iteration:  230\n",
      "[6 7 4 ... 8 3 6] [6 7 4 ... 8 5 9]\n",
      "0.7721219512195122\n",
      "Iteration:  240\n",
      "[6 7 4 ... 8 3 6] [6 7 4 ... 8 5 9]\n",
      "0.778390243902439\n",
      "Iteration:  250\n",
      "[6 7 4 ... 8 3 6] [6 7 4 ... 8 5 9]\n",
      "0.7828048780487805\n",
      "Iteration:  260\n",
      "[6 7 4 ... 8 3 6] [6 7 4 ... 8 5 9]\n",
      "0.7881219512195122\n",
      "Iteration:  270\n",
      "[6 7 4 ... 8 3 6] [6 7 4 ... 8 5 9]\n",
      "0.7924390243902439\n",
      "Iteration:  280\n",
      "[6 7 4 ... 8 3 6] [6 7 4 ... 8 5 9]\n",
      "0.796\n",
      "Iteration:  290\n",
      "[6 7 4 ... 8 3 6] [6 7 4 ... 8 5 9]\n",
      "0.7999512195121952\n",
      "Iteration:  300\n",
      "[6 7 4 ... 8 3 6] [6 7 4 ... 8 5 9]\n",
      "0.8036341463414635\n",
      "Iteration:  310\n",
      "[6 7 4 ... 8 3 6] [6 7 4 ... 8 5 9]\n",
      "0.8070243902439025\n",
      "Iteration:  320\n",
      "[6 7 4 ... 8 3 6] [6 7 4 ... 8 5 9]\n",
      "0.8105365853658537\n",
      "Iteration:  330\n",
      "[6 7 4 ... 8 3 6] [6 7 4 ... 8 5 9]\n",
      "0.8140731707317073\n",
      "Iteration:  340\n",
      "[6 7 4 ... 8 3 6] [6 7 4 ... 8 5 9]\n",
      "0.8163414634146341\n",
      "Iteration:  350\n",
      "[6 7 4 ... 8 3 6] [6 7 4 ... 8 5 9]\n",
      "0.819170731707317\n",
      "Iteration:  360\n",
      "[6 7 4 ... 8 3 6] [6 7 4 ... 8 5 9]\n",
      "0.8214878048780487\n",
      "Iteration:  370\n",
      "[6 7 4 ... 8 3 6] [6 7 4 ... 8 5 9]\n",
      "0.8240243902439024\n",
      "Iteration:  380\n",
      "[6 7 4 ... 8 3 6] [6 7 4 ... 8 5 9]\n",
      "0.8262682926829268\n",
      "Iteration:  390\n",
      "[6 7 4 ... 8 3 6] [6 7 4 ... 8 5 9]\n",
      "0.8289024390243902\n",
      "Iteration:  400\n",
      "[6 7 4 ... 8 3 6] [6 7 4 ... 8 5 9]\n",
      "0.8309024390243902\n",
      "Iteration:  410\n",
      "[6 7 4 ... 8 3 6] [6 7 4 ... 8 5 9]\n",
      "0.833\n",
      "Iteration:  420\n",
      "[6 7 4 ... 8 3 6] [6 7 4 ... 8 5 9]\n",
      "0.8347073170731707\n",
      "Iteration:  430\n",
      "[6 7 4 ... 8 3 6] [6 7 4 ... 8 5 9]\n",
      "0.8362439024390244\n",
      "Iteration:  440\n",
      "[6 7 4 ... 8 3 6] [6 7 4 ... 8 5 9]\n",
      "0.8380731707317073\n",
      "Iteration:  450\n",
      "[6 7 4 ... 8 3 6] [6 7 4 ... 8 5 9]\n",
      "0.8398292682926829\n",
      "Iteration:  460\n",
      "[6 7 4 ... 8 3 6] [6 7 4 ... 8 5 9]\n",
      "0.8417560975609756\n",
      "Iteration:  470\n",
      "[6 7 4 ... 8 3 6] [6 7 4 ... 8 5 9]\n",
      "0.8431463414634146\n",
      "Iteration:  480\n",
      "[6 7 4 ... 8 3 6] [6 7 4 ... 8 5 9]\n",
      "0.844390243902439\n",
      "Iteration:  490\n",
      "[6 7 4 ... 8 3 6] [6 7 4 ... 8 5 9]\n",
      "0.8457317073170731\n"
     ]
    }
   ],
   "source": [
    "W1, b1, W2, b2 = gradient_descent(X_train, Y_train, 0.10, 500)"
   ]
  },
  {
   "cell_type": "code",
   "execution_count": 7,
   "id": "3cc7346e-73fe-4404-9713-59319f0c82f3",
   "metadata": {
    "tags": []
   },
   "outputs": [],
   "source": [
    "def make_predictions(X, W1, b1, W2, b2):\n",
    "    _, _, _, A2 = forward_prop(W1, b1, W2, b2, X)\n",
    "    predictions = get_predictions(A2)\n",
    "    return predictions\n",
    "\n",
    "def test_prediction(index, W1, b1, W2, b2):\n",
    "    current_image = X_train[:, index, None]\n",
    "    prediction = make_predictions(X_train[:, index, None], W1, b1, W2, b2)\n",
    "    label = Y_train[index]\n",
    "    print(\"Prediction: \", prediction)\n",
    "    print(\"Label: \", label)\n",
    "    \n",
    "    current_image = current_image.reshape((28, 28)) * 255\n",
    "    plt.gray()\n",
    "    plt.imshow(current_image, interpolation='nearest')\n",
    "    plt.show()"
   ]
  },
  {
   "cell_type": "code",
   "execution_count": 8,
   "id": "d8451ab7-1a20-4a97-a84d-bcea347d606f",
   "metadata": {
    "tags": []
   },
   "outputs": [
    {
     "name": "stdout",
     "output_type": "stream",
     "text": [
      "Prediction:  [6]\n",
      "Label:  6\n"
     ]
    },
    {
     "data": {
      "image/png": "[encoded data removed]",
      "text/plain": [
       "<Figure size 640x480 with 1 Axes>"
      ]
     },
     "metadata": {},
     "output_type": "display_data"
    },
    {
     "name": "stdout",
     "output_type": "stream",
     "text": [
      "Prediction:  [7]\n",
      "Label:  7\n"
     ]
    },
    {
     "data": {
      "image/png": "[encoded data removed]",
      "text/plain": [
       "<Figure size 640x480 with 1 Axes>"
      ]
     },
     "metadata": {},
     "output_type": "display_data"
    },
    {
     "name": "stdout",
     "output_type": "stream",
     "text": [
      "Prediction:  [4]\n",
      "Label:  4\n"
     ]
    },
    {
     "data": {
      "image/png": "[encoded data removed]",
      "text/plain": [
       "<Figure size 640x480 with 1 Axes>"
      ]
     },
     "metadata": {},
     "output_type": "display_data"
    },
    {
     "name": "stdout",
     "output_type": "stream",
     "text": [
      "Prediction:  [8]\n",
      "Label:  3\n"
     ]
    },
    {
     "data": {
      "image/png": "[encoded data removed]",
      "text/plain": [
       "<Figure size 640x480 with 1 Axes>"
      ]
     },
     "metadata": {},
     "output_type": "display_data"
    }
   ],
   "source": [
    "test_prediction(0, W1, b1, W2, b2)\n",
    "test_prediction(1, W1, b1, W2, b2)\n",
    "test_prediction(2, W1, b1, W2, b2)\n",
    "test_prediction(3, W1, b1, W2, b2)"
   ]
  }
 ],
 "metadata": {
  "kernelspec": {
   "display_name": "Python 3 (ipykernel)",
   "language": "python",
   "name": "python3"
  },
  "language_info": {
   "codemirror_mode": {
    "name": "ipython",
    "version": 3
   },
   "file_extension": ".py",
   "mimetype": "text/x-python",
   "name": "python",
   "nbconvert_exporter": "python",
   "pygments_lexer": "ipython3",
   "version": "3.11.8"
  }
 },
 "nbformat": 4,
 "nbformat_minor": 5
}
